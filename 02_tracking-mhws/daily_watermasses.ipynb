{
 "cells": [
  {
   "cell_type": "code",
   "execution_count": null,
   "id": "fddcaf6f-4adc-4408-b2b5-b5bf974f0a80",
   "metadata": {},
   "outputs": [],
   "source": [
    "import xarray as xr\n",
    "import numpy as np\n",
    "\n",
    "import xwmb\n",
    "import xwmt\n",
    "import xgcm\n",
    "import warnings\n",
    "warnings.filterwarnings('ignore')"
   ]
  },
  {
   "cell_type": "code",
   "execution_count": null,
   "id": "20698dba-b029-41ff-8433-e899019185d4",
   "metadata": {},
   "outputs": [],
   "source": [
    "xwmb.__version__, xwmt.__version__, xgcm.__version__"
   ]
  },
  {
   "cell_type": "code",
   "execution_count": null,
   "id": "7efea044-267b-4f58-a0c1-cb8a1eca0fc4",
   "metadata": {},
   "outputs": [],
   "source": [
    "hfdrake_path = \"/pub/hfdrake/datasets/CM4_MHW_blobs/data_daily/\"\n",
    "ds = xr.open_mfdataset(f\"{hfdrake_path}/*.ocean_daily.*.nc\", chunks={\"time\":1})"
   ]
  },
  {
   "cell_type": "code",
   "execution_count": null,
   "id": "b56dbbb5-8bee-4779-afee-514d8bb3cc6b",
   "metadata": {},
   "outputs": [],
   "source": [
    "snap = xr.open_mfdataset(f\"{hfdrake_path}/*.ocean_daily_snap*.nc\", chunks={\"time\":1})\n",
    "snap"
   ]
  },
  {
   "cell_type": "code",
   "execution_count": null,
   "id": "9d5eda70-1e3e-4768-9362-8d5a71ef4607",
   "metadata": {},
   "outputs": [],
   "source": [
    "static = xr.open_dataset(\"/pub/hfdrake/datasets/CM4_MHW_blobs/data/WMT_monthly/ocean_month_rho2.static.nc\")#chunks={'time':1})\n",
    "static"
   ]
  },
  {
   "cell_type": "code",
   "execution_count": null,
   "id": "ffe857d5-7cbd-4613-b430-c4c7b7c0b0f3",
   "metadata": {},
   "outputs": [],
   "source": [
    "# Merge snapshots with time-averages\n",
    "snap = snap.rename({\n",
    "    **{'time':'time_bounds'},\n",
    "    **{v:f\"{v}_bounds\" for v in snap.data_vars}\n",
    "})\n",
    "ds = xr.merge([ds.sel(time=ds.time[1:]), snap])\n",
    "ds"
   ]
  },
  {
   "cell_type": "code",
   "execution_count": null,
   "id": "015cdcf6-0ff6-4db4-bafb-aad96208e25f",
   "metadata": {},
   "outputs": [],
   "source": [
    "ds = xr.merge([static,ds],join='inner')"
   ]
  },
  {
   "cell_type": "code",
   "execution_count": null,
   "id": "70b0c3ee-172a-4cb4-80cd-ff3293c96aa0",
   "metadata": {},
   "outputs": [],
   "source": [
    "#ds.umo.isel(time=0,zl=0).plot()"
   ]
  },
  {
   "cell_type": "code",
   "execution_count": null,
   "id": "0c64e2df-c295-4811-a8e6-76f6a5bc16c9",
   "metadata": {},
   "outputs": [],
   "source": [
    "ds"
   ]
  },
  {
   "cell_type": "code",
   "execution_count": null,
   "id": "2df1c8c5-26db-4ee6-a78c-da59eefefb62",
   "metadata": {},
   "outputs": [],
   "source": [
    "def add_estimated_layer_interfaces(ds):\n",
    "    return ds.assign_coords({\"zi\": xr.DataArray(\n",
    "        np.concatenate([[0], 0.5*(ds.zl.values[1:]+ds.zl.values[0:-1]), [6000]]),\n",
    "        dims=('zi',)\n",
    "    )})"
   ]
  },
  {
   "cell_type": "code",
   "execution_count": null,
   "id": "b41d2742-eba1-49db-9de5-3cd4c167db4f",
   "metadata": {},
   "outputs": [],
   "source": [
    "ds = add_estimated_layer_interfaces(ds) "
   ]
  },
  {
   "cell_type": "code",
   "execution_count": null,
   "id": "385c864c-a01b-468b-8362-cf29ded92cc7",
   "metadata": {},
   "outputs": [],
   "source": [
    "# Add core coordinates of static to ds\n",
    "ds = ds.assign_coords({\n",
    "    \"areacello\": xr.DataArray(ds[\"areacello\"].values, dims=('yh', 'xh',)), # Required for area-integration\n",
    "    \"lon\": xr.DataArray(ds[\"geolon\"].values, dims=('yh', 'xh',)), # Required for calculating density if not already provided!\n",
    "    \"lat\": xr.DataArray(ds[\"geolat\"].values, dims=('yh', 'xh',)), # Required for calculating density if not already provided!\n",
    "    \"xq\": xr.DataArray(ds[\"xq\"].values, dims=('xq',)),\n",
    "    \"yq\": xr.DataArray(ds[\"yq\"].values, dims=('yq',)),\n",
    "    \"deptho\": xr.DataArray(ds[\"deptho\"].values, dims=('yh', 'xh',)),\n",
    "    \"geolon\": xr.DataArray(ds[\"geolon\"].values, dims=('yh', 'xh',)),\n",
    "    \"geolat\": xr.DataArray(ds[\"geolat\"].values, dims=('yh', 'xh',)),\n",
    "    \"geolon_c\": xr.DataArray(ds[\"geolon_c\"].values, dims=('yq', 'xq',)),\n",
    "    \"geolat_c\": xr.DataArray(ds[\"geolat_c\"].values, dims=('yq', 'xq',)),\n",
    "})\n",
    "\n",
    "# xgcm grid for dataset\n",
    "coords = {\n",
    "    'X': {'center': 'xh', 'outer': 'xq'},\n",
    "    'Y': {'center': 'yh', 'outer': 'yq'},\n",
    "    'Z': {'center': 'zl', 'outer': 'zi'}\n",
    "}\n",
    "#'Z': {'center': 'rho2_l', 'outer': 'rho2_i'}\n",
    "#'Z': {'center': 'zl', 'outer': 'zl'}\n",
    "metrics = {\n",
    "    ('X','Y'): \"areacello\", # Required for area-integration\n",
    "}\n",
    "\n",
    "ds['tos'] = ds['thetao'].isel(zl=0)\n",
    "#ds['sos'] = ds['so'].isel(zl=0)\n",
    "\n",
    "grid = xgcm.Grid(ds.copy(), coords=coords, metrics=metrics, boundary={'X':'extend', 'Y':'extend', 'Z':'extend'}, autoparse_metadata=False)"
   ]
  },
  {
   "cell_type": "code",
   "execution_count": null,
   "id": "6d823bda-5cca-461b-8150-7b6ffd9d0b71",
   "metadata": {},
   "outputs": [],
   "source": [
    "wm = xwmt.WaterMass(grid)"
   ]
  },
  {
   "cell_type": "code",
   "execution_count": null,
   "id": "a2a44e4b-a6c1-49c1-b3c9-3f7074d721b7",
   "metadata": {},
   "outputs": [],
   "source": [
    "wm.grid._ds"
   ]
  },
  {
   "cell_type": "code",
   "execution_count": null,
   "id": "582477d8-d586-47c2-be03-c790eb3e8911",
   "metadata": {},
   "outputs": [],
   "source": [
    "import xbudget\n",
    "budgets_dict = xbudget.load_preset_budget(model=\"MOM6_3Donly\").copy()\n",
    "del budgets_dict['salt']['lhs']\n",
    "del budgets_dict['salt']['rhs']"
   ]
  },
  {
   "cell_type": "code",
   "execution_count": null,
   "id": "0a86071b-30d7-421f-94b5-029a622b8d8f",
   "metadata": {},
   "outputs": [],
   "source": [
    "xbudget.collect_budgets(grid, budgets_dict)"
   ]
  },
  {
   "cell_type": "code",
   "execution_count": null,
   "id": "4621df13-a577-4fba-aacc-ce8b0773f377",
   "metadata": {},
   "outputs": [],
   "source": [
    "budgets_dict"
   ]
  },
  {
   "cell_type": "code",
   "execution_count": null,
   "id": "f40a02d6-52b9-4e20-b8f8-fd4c0299aa86",
   "metadata": {},
   "outputs": [],
   "source": [
    "import numpy as np\n",
    "import regionate\n",
    "import matplotlib.pyplot as plt\n",
    "\n",
    "# Note: the properties of this region are quite different from the rest of the Baltic!\n",
    "name = \"MANSO\"\n",
    "#lons = np.array([8.,   20.,  29., 24.5, 24.5, 26.1, 17.5, 11.5])\n",
    "#lons = np.arange([-138, 0, 3.4])\n",
    "lons = np.array([-138.,-120.,-100., -70., -70., -100., -120., -138.])\n",
    "#lats = np.arange(8, 49, 1)\n",
    "lats = np.array([10., 10., 10., 10., 38., 38., 38., 38.])\n",
    "#lats = np.array([53.5, 53.5, 54.5,  59.,  61.,  63., 64.5,  62.])\n",
    "manso_region = regionate.GriddedRegion(name, lons, lats, grid)\n",
    "\n",
    "plt.figure(figsize=(4.75,3.5))\n",
    "pc = plt.pcolor(\n",
    "    grid._ds['geolon_c'],\n",
    "    grid._ds['geolat_c'],\n",
    "    grid._ds['deptho'],\n",
    "    cmap=\"viridis_r\"\n",
    ")\n",
    "plt.colorbar(pc, label=\"depth [m]\")\n",
    "plt.plot(regionate.loop(manso_region.lons), regionate.loop(manso_region.lats), color=\"k\");\n",
    "plt.xlabel(\"longitude\");\n",
    "plt.ylabel(\"latitude\");\n",
    "plt.xlim(np.min(lons), np.max(lons))\n",
    "plt.ylim(np.min(lats), np.max(lats))\n",
    "\n",
    "#plt.xlim(-200,5)\n",
    "#plt.ylim(-10,80)"
   ]
  },
  {
   "cell_type": "code",
   "execution_count": null,
   "id": "f0c450dd-a859-4cf2-8841-068a22ddbd8d",
   "metadata": {},
   "outputs": [],
   "source": [
    "#manso_region.mask.plot()"
   ]
  },
  {
   "cell_type": "code",
   "execution_count": null,
   "id": "bf76ef91-df6a-4cfc-9f83-d9469547002a",
   "metadata": {},
   "outputs": [],
   "source": [
    "import warnings\n",
    "\n",
    "lam = \"heat\"\n",
    "with warnings.catch_warnings():\n",
    "    warnings.simplefilter(action='ignore', category=FutureWarning)\n",
    "    wmb = xwmb.WaterMassBudget(\n",
    "        grid,\n",
    "        budgets_dict,\n",
    "        manso_region.mask\n",
    "    )\n",
    "    wmb.mass_budget(lam, greater_than=True, default_bins=True)\n",
    "    #wmb.wmt.load()\n",
    "    wmt = wmb.wmt\n",
    "    "
   ]
  },
  {
   "cell_type": "markdown",
   "id": "8a8571f8-abf2-48db-a420-a767d80b8d88",
   "metadata": {},
   "source": [
    "#### Cell below takes the longest to run"
   ]
  },
  {
   "cell_type": "code",
   "execution_count": null,
   "id": "49db6538-12b8-4e24-9980-de5c20f4f299",
   "metadata": {},
   "outputs": [],
   "source": [
    "wmt = wmt.load()"
   ]
  },
  {
   "cell_type": "code",
   "execution_count": null,
   "id": "fd779416-d1e7-4a09-8927-52b4ee492a2a",
   "metadata": {},
   "outputs": [],
   "source": [
    "wmt.mass_tendency"
   ]
  },
  {
   "cell_type": "code",
   "execution_count": null,
   "id": "eea6549e-ede2-4302-9c37-f4347b8697cd",
   "metadata": {},
   "outputs": [],
   "source": [
    "t = 30*7\n",
    "wmt.boundary_fluxes.isel(time=t).plot()\n",
    "wmt.diffusion.isel(time=t).plot()\n",
    "wmt.mass_tendency.isel(time=t).plot()\n",
    "(-wmt.convergent_mass_transport.isel(time=t)).plot()"
   ]
  },
  {
   "cell_type": "code",
   "execution_count": null,
   "id": "e8e41d55-44c0-433b-8b81-ee674121254e",
   "metadata": {},
   "outputs": [],
   "source": [
    "wmb.grid._ds"
   ]
  },
  {
   "cell_type": "code",
   "execution_count": null,
   "id": "ea571be8-0cc9-4ebe-ac30-9875897dedbe",
   "metadata": {},
   "outputs": [],
   "source": []
  }
 ],
 "metadata": {
  "kernelspec": {
   "display_name": "Python (mhw)",
   "language": "python",
   "name": "mhw"
  },
  "language_info": {
   "codemirror_mode": {
    "name": "ipython",
    "version": 3
   },
   "file_extension": ".py",
   "mimetype": "text/x-python",
   "name": "python",
   "nbconvert_exporter": "python",
   "pygments_lexer": "ipython3",
   "version": "3.11.7"
  }
 },
 "nbformat": 4,
 "nbformat_minor": 5
}
