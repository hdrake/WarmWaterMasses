{
 "cells": [
  {
   "cell_type": "markdown",
   "id": "585e0523-6001-423f-871d-aa7d880292d4",
   "metadata": {},
   "source": [
    "# Relabel and merge yearly ocetrac output"
   ]
  },
  {
   "cell_type": "code",
   "execution_count": null,
   "id": "21669fe6-fdfc-48cd-b635-b86554b8e3ca",
   "metadata": {
    "editable": true,
    "slideshow": {
     "slide_type": ""
    },
    "tags": []
   },
   "outputs": [],
   "source": [
    "import dask\n",
    "import xarray as xr\n",
    "import numpy as np\n",
    "import pandas as pd\n",
    "import dask.array as da\n",
    "import warnings\n",
    "warnings.filterwarnings('ignore')\n",
    "from datetime import date\n",
    "import matplotlib.pyplot as plt\n",
    "print('loaded libraries')"
   ]
  },
  {
   "cell_type": "code",
   "execution_count": null,
   "id": "6d31e27a-f57e-418c-8732-5038728c5f00",
   "metadata": {},
   "outputs": [],
   "source": [
    "hfdrake_path = \"/pub/hfdrake/datasets/CM4_MHW_blobs/\"\n",
    "mt_path = \"/pub/mariant3/WarmWaterMasses/data/\"\n",
    "\n",
    "ds = xr.open_mfdataset(f\"{hfdrake_path}/data_daily/*.ocean_daily.*.nc\", chunks={\"time\":1})\n",
    "ds = ds.isel(yh=slice(1, None), yq=slice(None, -1), xh=slice(1,None), xq=slice(None, -1)) # realign cell center/corner coordinates\n",
    "\n",
    "xh_min = ds.xq.values.min()\n",
    "print(xh_min)\n",
    "xh_max = ds.xq.values.max()\n",
    "print(xh_max)\n",
    "yh_min = ds.yq.values.min()\n",
    "print(yh_min)\n",
    "yh_max = ds.yq.values.max()\n",
    "print(yh_max)\n",
    "\n",
    "snap = xr.open_mfdataset(f\"{hfdrake_path}/data_daily/*.ocean_daily_snap*.nc\", chunks={\"time\":1})\n",
    "# Rename snapshot time coordinates to time_bounds so they can later be merged with ds\n",
    "snap = snap.rename({\n",
    "    **{'time': 'time_bounds'},\n",
    "    **{v: f\"{v}_bounds\" for v in snap.data_vars}\n",
    "    })\n",
    "\n",
    "static = xr.open_dataset(\"/pub/hfdrake/datasets/CM4_MHW_blobs/data/WMT_monthly/ocean_month_rho2.static.nc\")\n",
    "\n",
    "tos = xr.open_dataset(f\"{hfdrake_path}/data/ocean_daily_cmip.01860101-01901231.tos.nc\", chunks={'time':1})\n",
    "tos_static = xr.open_dataset(f\"{hfdrake_path}/data/ocean_daily_cmip.static.nc\")\n",
    "blobs = xr.open_mfdataset(f\"{mt_path}/ocetracv6/ocetrac-v6-blobs-tos-t1*.nc\")"
   ]
  },
  {
   "cell_type": "markdown",
   "id": "f3e74d37-4421-45e6-b9e7-fb09ae05b18d",
   "metadata": {},
   "source": [
    "Relabel events"
   ]
  },
  {
   "cell_type": "code",
   "execution_count": null,
   "id": "15ef8bd0-c2be-4ef5-9554-624635d6fb21",
   "metadata": {},
   "outputs": [],
   "source": [
    "# Outputs relabeled object for the globe. \n",
    "years = np.unique(blobs.time.dt.year.values)\n",
    "\n",
    "for i, year in enumerate(years[1:]):\n",
    "    print(f\"Working on year {year}\")\n",
    "    year_before = blobs.labels.isel(time=(blobs.time.dt.year==year-1)).max().values\n",
    "    blobs[\"labels\"] = xr.where(blobs.time.dt.year==year, blobs.labels + year_before, blobs.labels)"
   ]
  },
  {
   "cell_type": "code",
   "execution_count": null,
   "id": "6217f4c2-0854-4e4d-b91a-d83542017a69",
   "metadata": {},
   "outputs": [],
   "source": [
    "# Storing the individual id values in the MANSO region\n",
    "ids = np.unique(blobs.labels.sel(\n",
    "    xh=slice(xh_min, xh_max), \n",
    "    yh=slice(yh_min, yh_max)\n",
    "))\n",
    "\n",
    "ids = np.array([id for id in ids if ~np.isnan(id)])"
   ]
  },
  {
   "cell_type": "code",
   "execution_count": null,
   "id": "d9423942-2947-4fdb-8aea-77e2dbdbaad5",
   "metadata": {},
   "outputs": [],
   "source": [
    "startday = blobs.time.values.astype(dtype='str')[0]\n",
    "endday = blobs.time.values.astype(dtype='str')[-1]"
   ]
  },
  {
   "cell_type": "code",
   "execution_count": null,
   "id": "48bb9a02-e1ca-4160-8e43-86553dcd34e0",
   "metadata": {},
   "outputs": [],
   "source": [
    "# merging tos and the regional blobs\n",
    "reg_blobs = blobs.sel(\n",
    "    xh=slice(xh_min, xh_max), \n",
    "    yh=slice(yh_min, yh_max)\n",
    ")\n",
    "\n",
    "ds_region = (tos\n",
    "             .sel(\n",
    "                 time=slice(startday,endday))\n",
    "             .sel(\n",
    "                xh=slice(xh_min, xh_max), \n",
    "                yh=slice(yh_min, yh_max)\n",
    "             ))\n",
    "\n",
    "ds_region_blobs = xr.merge(\n",
    "    [ds_region,reg_blobs],join='inner'\n",
    ")"
   ]
  },
  {
   "cell_type": "code",
   "execution_count": null,
   "id": "0163881d-5555-4993-af32-d7b9ecb78df9",
   "metadata": {},
   "outputs": [],
   "source": [
    "# Defining the land and ocean mask\n",
    "hot_water = ds_region_blobs['tos']\n",
    "#lsmask = xr.ones_like(binary_out.isel(time=0))\n",
    "mask_ocean = 1 * np.ones(ds_region_blobs['tos'].shape[1:]) * np.isfinite(ds_region_blobs['tos'].isel(time=0))\n",
    "mask_land = 0 * np.ones(ds_region_blobs['tos'].shape[1:]) * np.isnan(ds_region_blobs['tos'].isel(time=0))\n",
    "lomask = mask_ocean + mask_land"
   ]
  },
  {
   "cell_type": "code",
   "execution_count": null,
   "id": "71eabcd7-7be7-4e75-a177-bca1777c2446",
   "metadata": {},
   "outputs": [],
   "source": [
    "# xarray Dataset to save\n",
    "ds_out = xr.Dataset(\n",
    "    data_vars=dict(\n",
    "        blobs=(['time', 'yh', 'xh'], reg_blobs.labels.values, reg_blobs.labels.attrs),\n",
    "        lomask=(['yh', 'xh'], lomask.values),\n",
    "\n",
    "    ),\n",
    "    coords=dict(\n",
    "        xh=ds_region_blobs['tos'].xh,\n",
    "        yh=ds_region_blobs['tos'].yh,\n",
    "        time=ds_region_blobs['tos'].time,\n",
    "    ),\n",
    "    attrs=dict(description=\"Relabeled ocetrac-v6-run for the globe\",\n",
    "               data=\"tos from CM4.0\", #full-period climatology\n",
    "               task=\"radius=0.0, min_size_quartile=0.0\",\n",
    "               threshold='29 deg C'\n",
    ")\n",
    ")\n",
    "ds_out"
   ]
  },
  {
   "cell_type": "code",
   "execution_count": null,
   "id": "100b5a5c-c02d-4d3d-8972-20d51698e3c0",
   "metadata": {},
   "outputs": [],
   "source": [
    "## for nomenclature\n",
    "d = blobs.isel(time = 0).time.dt\n",
    "e = blobs.isel(time = -1).time.dt\n",
    "date_d = f\"{d.year.values:0004}{d.month.values:02}{d.day.values:02}\"\n",
    "date_e = f\"{e.year.values:0004}{e.month.values:02}{e.day.values:02}\""
   ]
  },
  {
   "cell_type": "code",
   "execution_count": null,
   "id": "b95e2ff2-f53b-4f8a-aa99-05fbb2bd60ba",
   "metadata": {},
   "outputs": [],
   "source": [
    "# ds_out.to_netcdf(f\"/pub/mariant3/WarmWaterMasses/data/ocetracv9/ocetrac-v9-blobs-tos-t1-r1-msq0-{date_d}-{date_e}-region.nc\")"
   ]
  }
 ],
 "metadata": {
  "kernelspec": {
   "display_name": "Python (mhw)",
   "language": "python",
   "name": "mhw"
  },
  "language_info": {
   "codemirror_mode": {
    "name": "ipython",
    "version": 3
   },
   "file_extension": ".py",
   "mimetype": "text/x-python",
   "name": "python",
   "nbconvert_exporter": "python",
   "pygments_lexer": "ipython3",
   "version": "3.11.7"
  }
 },
 "nbformat": 4,
 "nbformat_minor": 5
}
