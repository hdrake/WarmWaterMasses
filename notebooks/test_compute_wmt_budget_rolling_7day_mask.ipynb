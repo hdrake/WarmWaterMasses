{
 "cells": [
  {
   "cell_type": "code",
   "execution_count": 1,
   "id": "ffe0fb47-5b68-419e-b69e-aca3c17d95b0",
   "metadata": {},
   "outputs": [
    {
     "name": "stdout",
     "output_type": "stream",
     "text": [
      "0.2.2 0.2.2 0.8.2.dev15+g7492277\n"
     ]
    }
   ],
   "source": [
    "import datetime\n",
    "import xarray as xr\n",
    "import numpy as np\n",
    "import dask\n",
    "import pandas as pd\n",
    "import xwmb\n",
    "import xwmt\n",
    "import xgcm\n",
    "import warnings\n",
    "warnings.filterwarnings('ignore')\n",
    "import cftime\n",
    "print(xwmb.__version__, xwmt.__version__, xgcm.__version__)"
   ]
  },
  {
   "cell_type": "code",
   "execution_count": 2,
   "id": "34bb039a-69bc-4d1f-9ee1-3e658054b181",
   "metadata": {},
   "outputs": [],
   "source": [
    "hfdrake_path = \"/pub/hfdrake/datasets/CM4_MHW_blobs/data_daily/\"\n",
    "ds = xr.open_mfdataset(f\"{hfdrake_path}/*.ocean_daily.*.nc\", chunks={\"time\":1})\n",
    "ds = ds.isel(yh=slice(1, None), yq=slice(None, -1), xh=slice(1,None), xq=slice(None, -1)) # realign cell center/corner coordinates\n",
    "\n",
    "snap = xr.open_mfdataset(f\"{hfdrake_path}/*.ocean_daily_snap*.nc\", chunks={\"time\":1})\n",
    "# Rename snapshot time coordinates to time_bounds so they can later be merged with ds\n",
    "snap = snap.rename({\n",
    "    **{'time': 'time_bounds'},\n",
    "    **{v: f\"{v}_bounds\" for v in snap.data_vars}\n",
    "    })\n",
    "\n",
    "static = xr.open_dataset(\"/pub/hfdrake/datasets/CM4_MHW_blobs/data/WMT_monthly/ocean_month_rho2.static.nc\")"
   ]
  },
  {
   "cell_type": "code",
   "execution_count": 3,
   "id": "f875a7a1-3ab6-418c-8c9b-3a78b7db4fb2",
   "metadata": {},
   "outputs": [
    {
     "name": "stdout",
     "output_type": "stream",
     "text": [
      "----------------- zooming into the each event -----------------\n",
      "----------------- creating a 7-day dynamic mask -----------------\n",
      "----------------- merging and realigning-----------------\n",
      "----------------- Adding core coordinates of static to ds_event -----------------\n"
     ]
    }
   ],
   "source": [
    "mt_path = \"/pub/mariant3/WarmWaterMasses/data/\"\n",
    "labels = xr.open_dataset(f\"{mt_path}ocetracv9/ocetrac-v9-blobs-tos-t1-r1-msq0-01860315-01891214-region.nc\").blobs.rename('event_mask')\n",
    "\n",
    "ids = np.unique(labels.values[~np.isnan(labels.values)])\n",
    "#Because we want to run the budgets for all individual events, we will not get rid of 1 day events. Instead, we sort the events based on their area (largest to smallest)\n",
    "# area_array = [(labels == id).any(\"time\").sum([\"xh\", \"yh\"]).values for id in ids]\n",
    "# ids = [id for _, id in sorted(zip(area_array, ids), reverse=True)]\n",
    "\n",
    "mhw = 373\n",
    "\n",
    "print('----------------- zooming into the each event -----------------')\n",
    "event_mask = (labels == mhw)\n",
    "\n",
    "# Zoom in on time period of event (+ 1 day before and 1 day after)\n",
    "event_times = event_mask.time[event_mask.any([\"xh\", \"yh\"]).compute()]\n",
    "\n",
    "window_size = min(7, len(event_times))\n",
    "\n",
    "event_mask = event_mask.sel(time=slice(\n",
    "    event_times[ 0],\n",
    "    event_times[-1],\n",
    "))\n",
    "print('----------------- creating a 7-day dynamic mask -----------------')\n",
    "\n",
    "# Create centered 3-day rolling cumulative mask\n",
    "event_mask = (\n",
    "    event_mask.rolling({\"time\":window_size}, min_periods=1, center=True)\n",
    "    .max(\"time\")\n",
    "    .fillna(0.)\n",
    "    .astype(\"float64\")\n",
    ")\n",
    "\n",
    "print('----------------- merging and realigning-----------------')\n",
    "\n",
    "# Merge budget diagnostics with the event mask\n",
    "ds_event = xr.merge([ds, event_mask], join='inner')\n",
    "\n",
    "# Get snapshots that bound the event\n",
    "snap_event = snap.sel(\n",
    "    time_bounds=slice(\n",
    "        ds_event.time[0].values + datetime.timedelta(days = -1),\n",
    "        ds_event.time[-1].values + datetime.timedelta(days = 1)\n",
    "    )\n",
    ")\n",
    "\n",
    "ds_event = xr.merge([ds_event, snap_event, static], join='inner')\n",
    "\n",
    "xh_mask = ds_event.event_mask.any([\"time\",\"yh\"])\n",
    "xh_mask_where = np.where(xh_mask)[0]\n",
    "xh_mask = np.arange(xh_mask_where[0],xh_mask_where[-1]+1,1)\n",
    "\n",
    "yh_mask = ds_event.event_mask.any([\"time\",\"xh\"])\n",
    "yh_mask_where = np.where(yh_mask)[0]\n",
    "yh_mask = np.arange(yh_mask_where[0],yh_mask_where[-1]+1,1)\n",
    "\n",
    "# Zoom in on region of the actual event\n",
    "xh_event = ds_event.xh[xh_mask]\n",
    "yh_event = ds_event.yh[yh_mask]\n",
    "\n",
    "ds_event = ds_event.sel(xh=xh_event, yh=yh_event)\n",
    "\n",
    " # # # Realign tracer center/corner coordinates because inner \"join\" only shrinks the (\"xh\", \"yh\") dimensions!\n",
    "xq_inner = ds_event.xq.sel(xq=slice(ds_event.xh[0], ds_event.xh[-1]))\n",
    "xq_islice = (np.abs(ds_event.xq - xq_inner[0]).argmin().values - 1, np.abs(ds_event.xq - xq_inner[-1]).argmin().values + 2)\n",
    "yq_inner = ds_event.yq.sel(yq=slice(ds_event.yh[0], ds_event.yh[-1]))\n",
    "yq_islice = (np.abs(ds_event.yq - yq_inner[0]).argmin().values - 1, np.abs(ds_event.yq - yq_inner[-1]).argmin().values + 2)\n",
    "\n",
    "ds_event = ds_event.isel(xq=slice(*xq_islice), yq=slice(*yq_islice))\n",
    "print('----------------- Adding core coordinates of static to ds_event -----------------')"
   ]
  },
  {
   "cell_type": "code",
   "execution_count": 4,
   "id": "d38aae59-7a67-4592-938a-08797ef92bcc",
   "metadata": {},
   "outputs": [],
   "source": [
    "def add_estimated_layer_interfaces(ds):\n",
    "    return ds.assign_coords({\"zi\": xr.DataArray(\n",
    "        np.concatenate([[0], 0.5*(ds.zl.values[1:]+ds.zl.values[0:-1]), [6000]]),\n",
    "        dims=('zi',)\n",
    "    )})\n",
    "    \n",
    "ds_event = add_estimated_layer_interfaces(ds_event)\n",
    "\n",
    "ds_event = ds_event.assign_coords({\n",
    "    \"areacello\": xr.DataArray(ds_event[\"areacello\"].values, dims=('yh', 'xh',)), # Required for area-integration\n",
    "    \"lon\": xr.DataArray(ds_event[\"geolon\"].values, dims=('yh', 'xh',)), # Required for calculating density if not already provided!\n",
    "    \"lat\": xr.DataArray(ds_event[\"geolat\"].values, dims=('yh', 'xh',)), # Required for calculating density if not already provided!\n",
    "    \"yq\": xr.DataArray(ds_event[\"yq\"].values, dims=('yq',)),\n",
    "    \"deptho\": xr.DataArray(ds_event[\"deptho\"].values, dims=('yh', 'xh',)),\n",
    "    \"geolon\": xr.DataArray(ds_event[\"geolon\"].values, dims=('yh', 'xh',)),\n",
    "    \"geolat\": xr.DataArray(ds_event[\"geolat\"].values, dims=('yh', 'xh',)),\n",
    "    \"geolon_c\": xr.DataArray(ds_event[\"geolon_c\"].values, dims=('yq', 'xq',)),\n",
    "    \"geolat_c\": xr.DataArray(ds_event[\"geolat_c\"].values, dims=('yq', 'xq',)),\n",
    "    })\n",
    "\n",
    "coords = {\n",
    "    'X': {'center': 'xh', 'outer': 'xq'},\n",
    "    'Y': {'center': 'yh', 'outer': 'yq'},\n",
    "    'Z': {'center': 'zl', 'outer': 'zi'}\n",
    "}\n",
    "\n",
    "metrics = {\n",
    "    ('X','Y'): \"areacello\", # Required for area-integration\n",
    "    }\n",
    "\n",
    "ds_event['tos'] = ds_event['thetao'].isel(zl=0)"
   ]
  },
  {
   "cell_type": "code",
   "execution_count": 5,
   "id": "2d503364-a77e-4044-a2f1-9d4314a424de",
   "metadata": {},
   "outputs": [
    {
     "name": "stdout",
     "output_type": "stream",
     "text": [
      "----------------- creating _calc_temperature_wmt function -----------------\n",
      "----------------- getting ready to define wmt -----------------\n",
      "----------------- getting ready to load wmt -----------------\n",
      "-----------------loaded wmt -----------------\n"
     ]
    }
   ],
   "source": [
    "import numpy as np\n",
    "import regionate\n",
    "import matplotlib.pyplot as plt\n",
    "import warnings\n",
    "\n",
    "print('----------------- creating _calc_temperature_wmt function -----------------')\n",
    "\n",
    "def _calc_temperature_wmt(ds_event):\n",
    "    lam = \"heat\"\n",
    "    with warnings.catch_warnings():\n",
    "        warnings.simplefilter(action='ignore', category=FutureWarning)\n",
    "        \n",
    "        grid = xgcm.Grid(ds_event.copy(), coords=coords, metrics=metrics, boundary={'X':'extend', 'Y':'extend', 'Z':'extend'}, autoparse_metadata=False)\n",
    "        wm = xwmt.WaterMass(grid)\n",
    "        \n",
    "        import xbudget\n",
    "        budgets_dict = xbudget.load_preset_budget(model=\"MOM6_3Donly\").copy()\n",
    "        del budgets_dict['salt']['lhs']\n",
    "        del budgets_dict['salt']['rhs']\n",
    "        \n",
    "        xbudget.collect_budgets(grid, budgets_dict)\n",
    "        \n",
    "        wmb = xwmb.WaterMassBudget(\n",
    "            grid,\n",
    "            budgets_dict,\n",
    "            ds_event.event_mask.squeeze() if ds_event.event_mask.squeeze().any() else None\n",
    "            )\n",
    "        wmb.mass_budget(lam, greater_than=True, default_bins=True)\n",
    "    return wmb.wmt\n",
    "\n",
    "def sel_times(ds, t):\n",
    "    return ds.sel(\n",
    "        time = t.expand_dims(\"time\"),\n",
    "        time_bounds = slice(\n",
    "            t + datetime.timedelta(days = -1),\n",
    "            t + datetime.timedelta(days = 1)\n",
    "        )\n",
    "    )\n",
    "    \n",
    "print('----------------- getting ready to define wmt -----------------')\n",
    "\n",
    "wmt = xr.concat([\n",
    "    _calc_temperature_wmt(sel_times(ds_event, t)).drop_dims(\"time_bounds\")\n",
    "    for t in ds_event.time\n",
    "    ], dim=\"time\")\n",
    "\n",
    "# And the final bounds\n",
    "wmt_bounds = xr.concat([\n",
    "    _calc_temperature_wmt(sel_times(ds_event, t)).isel(time_bounds=0).drop_dims(\"time\")\n",
    "    for t in ds_event.time\n",
    "    ], dim=\"time_bounds\")\n",
    "# And the final bounds\n",
    "wmt_bounds = xr.concat([\n",
    "    wmt_bounds,\n",
    "    _calc_temperature_wmt(sel_times(ds_event, ds_event.time[-1])).isel(time_bounds=1).drop_dims(\"time\")\n",
    "], dim=\"time_bounds\")\n",
    "\n",
    "wmt_bounds_after = xr.concat([\n",
    "    _calc_temperature_wmt(sel_times(ds_event, t)).isel(time_bounds=1).drop_dims(\"time\")\n",
    "    for t in ds_event.time\n",
    "    ], dim=\"time_bounds\")\n",
    "\n",
    "# display(wmt)\n",
    "# start = wmt.time.values.astype('datetime64[D]')[0]\n",
    "# end = wmt.time.values.astype('datetime64[D]')[-1]\n",
    "# print(f'Event {mhw} starts on {start} and ends on {end}')\n",
    "# print(wmt.time.values)\n",
    "\n",
    "print('----------------- getting ready to load wmt -----------------')\n",
    "wmt.load()\n",
    "wmt_bounds.load()\n",
    "wmt_bounds_after.load()\n",
    "\n",
    "print('-----------------loaded wmt -----------------')\n",
    "# print('saving nc file...')\n",
    "# print(f\"wmt_mhw_event_full.to_netcdf(f'/pub/mariant3/WarmWaterMasses/data/budgets/rolling_budgets/rolling_budgets_v9/event-roll-budget_id-{int(mhw)}-{start}-{end}.nc'), mode='w'\")\n",
    "# wmt.to_netcdf(f'/pub/mariant3/WarmWaterMasses/data/budgets/rolling_budgets/rolling_budgets_v9/event-roll-budget_id-{int(mhw)}_{start}-{end}.nc', mode='w')\n",
    "# print(f'...saved nc file for mhw {mhw}!')"
   ]
  },
  {
   "cell_type": "code",
   "execution_count": 12,
   "id": "81eb92e0-1ecc-4eed-b801-bd6bcd54767d",
   "metadata": {},
   "outputs": [
    {
     "data": {
      "text/plain": [
       "Text(0, 0.5, 'Mass [kg]')"
      ]
     },
     "execution_count": 12,
     "metadata": {},
     "output_type": "execute_result"
    },
    {
     "data": {
      "image/png": "[encoded data removed]",
      "text/plain": [
       "<Figure size 640x480 with 1 Axes>"
      ]
     },
     "metadata": {},
     "output_type": "display_data"
    }
   ],
   "source": [
    "(wmt.mass_tendency.sel(thetao_l_target=29, method=\"nearest\").cumsum(\"time\")*86400).plot(label=\"dMdt\")\n",
    "(wmt.boundary_fluxes.sel(thetao_l_target=29, method=\"nearest\").cumsum(\"time\")*86400).plot(label=\"G^BF\")\n",
    "(wmt.diffusion.sel(thetao_l_target=29, method=\"nearest\").cumsum(\"time\")*86400).plot(label=\"G^Mix\")\n",
    "plt.axhline(0., color=\"gray\")\n",
    "plt.title(\"Cumulative WMT budget with 7-day rolling mask\")\n",
    "plt.legend()\n",
    "plt.ylabel(\"Mass [kg]\")"
   ]
  },
  {
   "cell_type": "code",
   "execution_count": 14,
   "id": "989449b0-9d4a-4700-a3fd-b005a3af85dc",
   "metadata": {},
   "outputs": [],
   "source": [
    "# wmt.to_netcdf(\"../data/wmt_id-373_07-day.nc\")"
   ]
  },
  {
   "cell_type": "code",
   "execution_count": null,
   "id": "31e81d04-0bde-4b1f-a2ef-eec786b2f8d4",
   "metadata": {},
   "outputs": [],
   "source": []
  }
 ],
 "metadata": {
  "kernelspec": {
   "display_name": "Python 3 (ipykernel)",
   "language": "python",
   "name": "python3"
  },
  "language_info": {
   "codemirror_mode": {
    "name": "ipython",
    "version": 3
   },
   "file_extension": ".py",
   "mimetype": "text/x-python",
   "name": "python",
   "nbconvert_exporter": "python",
   "pygments_lexer": "ipython3",
   "version": "3.11.5"
  }
 },
 "nbformat": 4,
 "nbformat_minor": 5
}
